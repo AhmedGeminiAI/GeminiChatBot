{
  "cells": [
    {
      "cell_type": "markdown",
      "metadata": {
        "id": "AUT67WFx4i0B"
      },
      "source": [
        "# Installation & SetUp"
      ]
    },
    {
      "cell_type": "code",
      "execution_count": null,
      "metadata": {
        "id": "FlW0-vYZvTPw",
        "colab": {
          "base_uri": "https://localhost:8080/"
        },
        "outputId": "262f06eb-4bf7-4394-af3f-3d5c646df8c8"
      },
      "outputs": [
        {
          "output_type": "stream",
          "name": "stdout",
          "text": [
            "\u001b[?25l     \u001b[90m━━━━━━━━━━━━━━━━━━━━━━━━━━━━━━━━━━━━━━━━\u001b[0m \u001b[32m0.0/145.9 kB\u001b[0m \u001b[31m?\u001b[0m eta \u001b[36m-:--:--\u001b[0m\r\u001b[2K     \u001b[91m━━━━━━━━━━━━━━━━━━━━━━━━━━━━━━━━━━━━━━━\u001b[0m\u001b[90m╺\u001b[0m \u001b[32m143.4/145.9 kB\u001b[0m \u001b[31m6.0 MB/s\u001b[0m eta \u001b[36m0:00:01\u001b[0m\r\u001b[2K     \u001b[90m━━━━━━━━━━━━━━━━━━━━━━━━━━━━━━━━━━━━━━━━\u001b[0m \u001b[32m145.9/145.9 kB\u001b[0m \u001b[31m3.7 MB/s\u001b[0m eta \u001b[36m0:00:00\u001b[0m\n",
            "\u001b[?25h"
          ]
        }
      ],
      "source": [
        "!pip -q install google-generativeai==0.3.0\n",
        "!pip -q install google-ai-generativelanguage==0.4.0"
      ]
    },
    {
      "cell_type": "code",
      "execution_count": null,
      "metadata": {
        "id": "RYmRs3XVv1Ur"
      },
      "outputs": [],
      "source": [
        "# setup\n",
        "import google.generativeai as genai\n",
        "from google.colab import userdata\n",
        "\n",
        "\n",
        "from IPython.display import display\n",
        "from IPython.display import Markdown\n",
        "\n",
        "GOOGLE_AI_STUDIO = userdata.get('GOOGLE-AI')\n",
        "\n",
        "genai.configure(api_key=GOOGLE_AI_STUDIO)\n"
      ]
    },
    {
      "cell_type": "markdown",
      "source": [
        "# Customization"
      ],
      "metadata": {
        "id": "aAn-vc9_0PMe"
      }
    },
    {
      "cell_type": "markdown",
      "source": [
        "\n",
        "1. **Block none**\tBLOCK_NONE\tAlways show regardless of probability of unsafe content\n",
        "2. **Block few**\tBLOCK_ONLY_HIGH\tBlock when high probability of unsafe content\n",
        "3. **Block some**\tBLOCK_MEDIUM_AND_ABOVE\tBlock when medium or high probability of unsafe content\n",
        "4. **Block most** BLOCK_LOW_AND_ABOVE\tBlock when low, medium or high probability of unsafe content\n",
        "5. **HARM_BLOCK_THRESHOLD_UNSPECIFIED** Threshold is unspecified, block using default threshold\n"
      ],
      "metadata": {
        "id": "kfx2no3Xu6vI"
      }
    },
    {
      "cell_type": "markdown",
      "source": [
        "There are two actors:\n",
        "- Admin\n",
        "- User\n",
        "\n",
        "User can be both an Owner of a Decision and a User.\n",
        "User can create a decision prompt, list available decisions, and use a decision prompt.\n",
        "Admin can edit any of the tables unrestricted for now.\n",
        "Screens are just basic, nothing extraordinary. Ideally, we make the API first for all functions and the interface can be built later.\n",
        "\n",
        "\n",
        "These are my initial thoughts on the database structure.\n",
        "\n",
        "Decision Master\n",
        "- Decision Unique ID (GUID)\n",
        "- Decision Title\n",
        "- Decision Description\n",
        "- Number of variables\n",
        "- Prompt Template (embedded variables, like v1, v2, v3, etc. Variables are embedded using {})\n",
        "- API Key Provider (Owner, User)\n",
        "- API Key\n",
        "- Token Limit, Temperature, and any other setting information\n",
        "- Owner ID (User GUID)\n",
        "- Token Tracked (Yes/No)\n",
        "\n",
        "Decision Variables\n",
        "- Decision Unique ID (GUID)\n",
        "- Variable ID\n",
        "- Variable Title\n",
        "- Variable Type (Short Text, Long Text, Radio Buttons, Check Boxes, Dropdown, Number)\n",
        "- Variable Choices (delimited values)\n",
        "- Validation and display logic (for later use)\n",
        "\n",
        "Prompt Transaction\n",
        "- Decision Unique ID (GUID)\n",
        "- User ID (GUID)\n",
        "- Transaction Time Stamp\n",
        "- Variable Values (delimited values)\n",
        "- Prompt\n",
        "- Token Limit, Temperature and any other values)\n",
        "- API Key used\n",
        "- OpenAPI response\n",
        "\n",
        "SubscriptionMaster\n",
        "- Decision Unique ID\n",
        "- Subscription Unique ID\n",
        "- Subscription Plan Name\n",
        "- Subscription Frequency\n",
        "- Subscription Amount\n",
        "- Subscription Token Limit\n",
        "\n",
        "User Master\n",
        "- User ID (GUID)\n",
        "- User Name\n",
        "- User Email\n",
        "- User OpenAPI Key\n",
        "- Token Balance\n",
        "- User Access Level (Admin, User)\n",
        "\n",
        "TokenTracking\n",
        "- Transaction ID\n",
        "- Tokens Transacted\n",
        "- Token Provider ID (User ID)\n",
        "\n",
        "\n",
        "What do you think?"
      ],
      "metadata": {
        "id": "ET6uCfZV0hww"
      }
    },
    {
      "cell_type": "markdown",
      "source": [
        "# DataFrame Schema"
      ],
      "metadata": {
        "id": "Og7zonjdQl06"
      }
    },
    {
      "cell_type": "code",
      "source": [
        "import pandas as pd\n",
        "\n",
        "decisionMaster = pd.DataFrame( columns = [\n",
        "\n",
        "'DecisionUniqueID',\n",
        "'DecisionTitle',\n",
        "'DecisionDescription',\n",
        "'NumberOfvariables',\n",
        "'PromptTemplate', # (embedded variables, like v1, v2, v3, etc. Variables are embedded using {})\n",
        "'APIKeyProvider', # (Owner, User)\n",
        "'APIKey',\n",
        "'TokenLimit',\n",
        "'Temperature',\n",
        "'TopP',\n",
        "'TopK',\n",
        "'UserID',\n",
        "'TokenTracked' # (Yes/No)\n",
        "\n",
        "])\n",
        "\n",
        "############################\n",
        "\n",
        "decisionVariables = pd.DataFrame( columns = [\n",
        "\n",
        "'DecisionUniqueID',\n",
        "'VariableID',\n",
        "'VariableTitle',\n",
        "'VariableType', #(Short Text, Long Text, Radio Buttons, Check Boxes, Dropdown, Number)\n",
        "'VariableChoices', # (delimited values)\n",
        "'Logic' #Validation and display logic (for later use)\n",
        "\n",
        "])\n",
        "\n",
        "############################\n",
        "\n",
        "PromptTransaction = pd.DataFrame( columns = [\n",
        "'DecisionUniqueID',\n",
        "'UserID', # (GUID)\n",
        "'TransactionTimeStamp',\n",
        "'VariableValues', # (delimited values)\n",
        "'Prompt',\n",
        "'TokenLimit',\n",
        "'Temperature'\n",
        "'TopP',\n",
        "'TopK',\n",
        "'APIKey',\n",
        "'OpenAPIresponse'\n",
        "])\n",
        "\n",
        "############################\n",
        "\n",
        "SubscriptionMaster = pd.DataFrame( columns = [\n",
        "\n",
        "\n",
        "'DecisionUniqueID',\n",
        "'SubscriptionUniqueID',\n",
        "'SubscriptionPlanName',\n",
        "'SubscriptionFrequency',\n",
        "'SubscriptionAmount',\n",
        "'SubscriptionTokenLimit'\n",
        "\n",
        "])\n",
        "############################\n",
        "UserMaster = pd.DataFrame( columns = [\n",
        "\n",
        "'UserID', #(GUID)\n",
        "'UserName',\n",
        "'UserEmail',\n",
        "'UserOpenAPIKey',\n",
        "'TokenBalance',\n",
        "'UserAccessLevel' #(Admin, User)\n",
        "])\n",
        "############################\n",
        "TokenTracking = pd.DataFrame( columns = [\n",
        "\n",
        "'TransactionID',\n",
        "'TokensTransacted',\n",
        "'TokenProviderID' # (User ID)\n",
        "])\n",
        "############################\n",
        "\n",
        "prData = pd.DataFrame( columns = [\n",
        "\n",
        " 'Name',\n",
        " 'Age',\n",
        " 'Gender',\n",
        " 'Education',\n",
        " 'Prompt',\n",
        " 'Response'\n",
        "])\n",
        "\n",
        "############################\n",
        "\n",
        "ctBot = pd.DataFrame(columns = [\n",
        "    'ChatBot',\n",
        "    'ChatBotID'\n",
        "]\n",
        "\n",
        ")\n",
        "\n",
        "############################\n",
        "\n",
        "ctPrompts = pd.DataFrame(columns =[\n",
        "    'ChatBotID',\n",
        "    'PromptID',\n",
        "    'Prompt'\n",
        "\n",
        "])\n"
      ],
      "metadata": {
        "id": "XQy0sTf66rso"
      },
      "execution_count": null,
      "outputs": []
    },
    {
      "cell_type": "markdown",
      "source": [
        "# Model"
      ],
      "metadata": {
        "id": "I_iOh9vuQg4a"
      }
    },
    {
      "cell_type": "code",
      "execution_count": null,
      "metadata": {
        "id": "PYQXiXuNwXWL"
      },
      "outputs": [],
      "source": [
        "################## BLOCK FEW ###################\n",
        "\n",
        "\n",
        "generation_config_high = {\n",
        "  \"temperature\": 0.3,\n",
        "  \"top_p\": 0.9, #top_p must be in the range [0.0, 1.0]\n",
        "  \"top_k\": 50,\n",
        "  \"max_output_tokens\": 2048, #Tokens represent units of text\n",
        "}\n",
        "\n",
        "safety_settings_high = [\n",
        "  {\n",
        "    \"category\": \"HARM_CATEGORY_HARASSMENT\",\n",
        "    \"threshold\": \"BLOCK_ONLY_HIGH\"\n",
        "  },\n",
        "  {\n",
        "    \"category\": \"HARM_CATEGORY_HATE_SPEECH\",\n",
        "    \"threshold\": \"BLOCK_ONLY_HIGH\"\n",
        "  },\n",
        "  {\n",
        "    \"category\": \"HARM_CATEGORY_SEXUALLY_EXPLICIT\",\n",
        "    \"threshold\": \"BLOCK_ONLY_HIGH\"\n",
        "\n",
        "  },\n",
        "  {\n",
        "    \"category\": \"HARM_CATEGORY_DANGEROUS_CONTENT\",\n",
        "    \"threshold\": \"BLOCK_ONLY_HIGH\"\n",
        "  }\n",
        "]\n"
      ]
    },
    {
      "cell_type": "code",
      "source": [
        "\n",
        "nameType = \"textbox\"\n",
        "ageType = \"dropdown\"\n",
        "educationtype = \"dropdown\"\n",
        "gendertype = \"radiobutton\"\n",
        "\n",
        "name = input(\"Please enter you name: \")\n",
        "age = input(\"What is your age: \")\n",
        "gender = input(\"What is your gender: Male/ Female:\")\n",
        "education = input (\"What is your highest degree: \")\n",
        "\n"
      ],
      "metadata": {
        "colab": {
          "base_uri": "https://localhost:8080/"
        },
        "id": "xWzU4PI_Otwm",
        "outputId": "6da3716d-af16-4808-afd9-31754353dfb4"
      },
      "execution_count": null,
      "outputs": [
        {
          "name": "stdout",
          "output_type": "stream",
          "text": [
            "Please enter you name: Faiza\n",
            "What is your age: 34\n",
            "What is your gender: Male/ Female:Female\n",
            "What is your highest degree: O levels\n"
          ]
        }
      ]
    },
    {
      "cell_type": "code",
      "source": [
        "\n",
        "inputQuery = f\"My name is {name}. I am a {age} years old {gender}. My education is {education}. Suggest a career choice for me. List in bullet points the steps I need to take to get there\""
      ],
      "metadata": {
        "id": "VlNlS4hjRDJD"
      },
      "execution_count": null,
      "outputs": []
    },
    {
      "cell_type": "code",
      "source": [
        "prompt_parts = [\n",
        "inputQuery\n",
        "]\n",
        "model_blockfew = genai.GenerativeModel(model_name=\"gemini-pro\",\n",
        "                              generation_config=generation_config_high,\n",
        "                              safety_settings=safety_settings_high)\n",
        "\n",
        "response_blockfew = model_blockfew.generate_content(prompt_parts)\n",
        "\n",
        "print(inputQuery)\n",
        "print(\"Model-Block Few \",response_blockfew.text)\n",
        "\n",
        "\n"
      ],
      "metadata": {
        "colab": {
          "base_uri": "https://localhost:8080/",
          "height": 287
        },
        "id": "gNqk1lYxI0Ky",
        "outputId": "df92c14c-9db3-46ed-acb9-908db96460cf"
      },
      "execution_count": null,
      "outputs": [
        {
          "output_type": "stream",
          "name": "stdout",
          "text": [
            "My name is Faiza. I am a 34 years old Female. My education is O levels. Suggest a career choice for me. List in bullet points the steps I need to take to get there\n",
            "Model-Block Few  **Career Choice:**\n",
            "\n",
            "* **Administrative Assistant**\n",
            "\n",
            "**Steps to Get There:**\n",
            "\n",
            "* **Obtain a Diploma or Certificate in Office Administration:** This will provide you with the necessary skills and knowledge in office management, communication, and technology.\n",
            "* **Gain Practical Experience:** Volunteer or intern at an office to gain hands-on experience in administrative tasks.\n",
            "* **Develop Strong Communication and Interpersonal Skills:** Administrative assistants interact with clients, colleagues, and supervisors regularly.\n",
            "* **Enhance Your Technology Proficiency:** Become familiar with Microsoft Office Suite, email management, and other relevant software.\n",
            "* **Network and Seek Job Opportunities:** Attend industry events, connect with professionals on LinkedIn, and apply for administrative assistant positions.\n",
            "* **Consider Specialization:** You can specialize in areas such as legal, medical, or executive administration to enhance your marketability.\n",
            "* **Stay Updated with Industry Trends:** Attend workshops or webinars to keep abreast of the latest administrative practices and technologies.\n"
          ]
        }
      ]
    },
    {
      "cell_type": "code",
      "source": [
        "prData.loc[len(prData.index)] = [name, age, gender, education, inputQuery, response_blockfew.text]"
      ],
      "metadata": {
        "id": "DsCVAtKAWJgh"
      },
      "execution_count": null,
      "outputs": []
    },
    {
      "cell_type": "code",
      "source": [
        "prData"
      ],
      "metadata": {
        "colab": {
          "base_uri": "https://localhost:8080/",
          "height": 89
        },
        "id": "idPpoNkQ39tv",
        "outputId": "15abb6a4-a626-4571-8db6-1cb53d4f1c14"
      },
      "execution_count": null,
      "outputs": [
        {
          "output_type": "execute_result",
          "data": {
            "text/plain": [
              "    Name Age  Gender Education  \\\n",
              "0  Faiza  34  Female  O levels   \n",
              "\n",
              "                                              Prompt  \\\n",
              "0  My name is Faiza. I am a 34 years old Female. ...   \n",
              "\n",
              "                                            Response  \n",
              "0  **Career Choice:**\\n\\n* **Administrative Assis...  "
            ],
            "text/html": [
              "\n",
              "  <div id=\"df-9a44ed8f-99e6-4f72-9383-78475bfb8542\" class=\"colab-df-container\">\n",
              "    <div>\n",
              "<style scoped>\n",
              "    .dataframe tbody tr th:only-of-type {\n",
              "        vertical-align: middle;\n",
              "    }\n",
              "\n",
              "    .dataframe tbody tr th {\n",
              "        vertical-align: top;\n",
              "    }\n",
              "\n",
              "    .dataframe thead th {\n",
              "        text-align: right;\n",
              "    }\n",
              "</style>\n",
              "<table border=\"1\" class=\"dataframe\">\n",
              "  <thead>\n",
              "    <tr style=\"text-align: right;\">\n",
              "      <th></th>\n",
              "      <th>Name</th>\n",
              "      <th>Age</th>\n",
              "      <th>Gender</th>\n",
              "      <th>Education</th>\n",
              "      <th>Prompt</th>\n",
              "      <th>Response</th>\n",
              "    </tr>\n",
              "  </thead>\n",
              "  <tbody>\n",
              "    <tr>\n",
              "      <th>0</th>\n",
              "      <td>Faiza</td>\n",
              "      <td>34</td>\n",
              "      <td>Female</td>\n",
              "      <td>O levels</td>\n",
              "      <td>My name is Faiza. I am a 34 years old Female. ...</td>\n",
              "      <td>**Career Choice:**\\n\\n* **Administrative Assis...</td>\n",
              "    </tr>\n",
              "  </tbody>\n",
              "</table>\n",
              "</div>\n",
              "    <div class=\"colab-df-buttons\">\n",
              "\n",
              "  <div class=\"colab-df-container\">\n",
              "    <button class=\"colab-df-convert\" onclick=\"convertToInteractive('df-9a44ed8f-99e6-4f72-9383-78475bfb8542')\"\n",
              "            title=\"Convert this dataframe to an interactive table.\"\n",
              "            style=\"display:none;\">\n",
              "\n",
              "  <svg xmlns=\"http://www.w3.org/2000/svg\" height=\"24px\" viewBox=\"0 -960 960 960\">\n",
              "    <path d=\"M120-120v-720h720v720H120Zm60-500h600v-160H180v160Zm220 220h160v-160H400v160Zm0 220h160v-160H400v160ZM180-400h160v-160H180v160Zm440 0h160v-160H620v160ZM180-180h160v-160H180v160Zm440 0h160v-160H620v160Z\"/>\n",
              "  </svg>\n",
              "    </button>\n",
              "\n",
              "  <style>\n",
              "    .colab-df-container {\n",
              "      display:flex;\n",
              "      gap: 12px;\n",
              "    }\n",
              "\n",
              "    .colab-df-convert {\n",
              "      background-color: #E8F0FE;\n",
              "      border: none;\n",
              "      border-radius: 50%;\n",
              "      cursor: pointer;\n",
              "      display: none;\n",
              "      fill: #1967D2;\n",
              "      height: 32px;\n",
              "      padding: 0 0 0 0;\n",
              "      width: 32px;\n",
              "    }\n",
              "\n",
              "    .colab-df-convert:hover {\n",
              "      background-color: #E2EBFA;\n",
              "      box-shadow: 0px 1px 2px rgba(60, 64, 67, 0.3), 0px 1px 3px 1px rgba(60, 64, 67, 0.15);\n",
              "      fill: #174EA6;\n",
              "    }\n",
              "\n",
              "    .colab-df-buttons div {\n",
              "      margin-bottom: 4px;\n",
              "    }\n",
              "\n",
              "    [theme=dark] .colab-df-convert {\n",
              "      background-color: #3B4455;\n",
              "      fill: #D2E3FC;\n",
              "    }\n",
              "\n",
              "    [theme=dark] .colab-df-convert:hover {\n",
              "      background-color: #434B5C;\n",
              "      box-shadow: 0px 1px 3px 1px rgba(0, 0, 0, 0.15);\n",
              "      filter: drop-shadow(0px 1px 2px rgba(0, 0, 0, 0.3));\n",
              "      fill: #FFFFFF;\n",
              "    }\n",
              "  </style>\n",
              "\n",
              "    <script>\n",
              "      const buttonEl =\n",
              "        document.querySelector('#df-9a44ed8f-99e6-4f72-9383-78475bfb8542 button.colab-df-convert');\n",
              "      buttonEl.style.display =\n",
              "        google.colab.kernel.accessAllowed ? 'block' : 'none';\n",
              "\n",
              "      async function convertToInteractive(key) {\n",
              "        const element = document.querySelector('#df-9a44ed8f-99e6-4f72-9383-78475bfb8542');\n",
              "        const dataTable =\n",
              "          await google.colab.kernel.invokeFunction('convertToInteractive',\n",
              "                                                    [key], {});\n",
              "        if (!dataTable) return;\n",
              "\n",
              "        const docLinkHtml = 'Like what you see? Visit the ' +\n",
              "          '<a target=\"_blank\" href=https://colab.research.google.com/notebooks/data_table.ipynb>data table notebook</a>'\n",
              "          + ' to learn more about interactive tables.';\n",
              "        element.innerHTML = '';\n",
              "        dataTable['output_type'] = 'display_data';\n",
              "        await google.colab.output.renderOutput(dataTable, element);\n",
              "        const docLink = document.createElement('div');\n",
              "        docLink.innerHTML = docLinkHtml;\n",
              "        element.appendChild(docLink);\n",
              "      }\n",
              "    </script>\n",
              "  </div>\n",
              "\n",
              "\n",
              "  <div id=\"id_13d0cf84-d8e1-4d45-bb09-047607948a2d\">\n",
              "    <style>\n",
              "      .colab-df-generate {\n",
              "        background-color: #E8F0FE;\n",
              "        border: none;\n",
              "        border-radius: 50%;\n",
              "        cursor: pointer;\n",
              "        display: none;\n",
              "        fill: #1967D2;\n",
              "        height: 32px;\n",
              "        padding: 0 0 0 0;\n",
              "        width: 32px;\n",
              "      }\n",
              "\n",
              "      .colab-df-generate:hover {\n",
              "        background-color: #E2EBFA;\n",
              "        box-shadow: 0px 1px 2px rgba(60, 64, 67, 0.3), 0px 1px 3px 1px rgba(60, 64, 67, 0.15);\n",
              "        fill: #174EA6;\n",
              "      }\n",
              "\n",
              "      [theme=dark] .colab-df-generate {\n",
              "        background-color: #3B4455;\n",
              "        fill: #D2E3FC;\n",
              "      }\n",
              "\n",
              "      [theme=dark] .colab-df-generate:hover {\n",
              "        background-color: #434B5C;\n",
              "        box-shadow: 0px 1px 3px 1px rgba(0, 0, 0, 0.15);\n",
              "        filter: drop-shadow(0px 1px 2px rgba(0, 0, 0, 0.3));\n",
              "        fill: #FFFFFF;\n",
              "      }\n",
              "    </style>\n",
              "    <button class=\"colab-df-generate\" onclick=\"generateWithVariable('prData')\"\n",
              "            title=\"Generate code using this dataframe.\"\n",
              "            style=\"display:none;\">\n",
              "\n",
              "  <svg xmlns=\"http://www.w3.org/2000/svg\" height=\"24px\"viewBox=\"0 0 24 24\"\n",
              "       width=\"24px\">\n",
              "    <path d=\"M7,19H8.4L18.45,9,17,7.55,7,17.6ZM5,21V16.75L18.45,3.32a2,2,0,0,1,2.83,0l1.4,1.43a1.91,1.91,0,0,1,.58,1.4,1.91,1.91,0,0,1-.58,1.4L9.25,21ZM18.45,9,17,7.55Zm-12,3A5.31,5.31,0,0,0,4.9,8.1,5.31,5.31,0,0,0,1,6.5,5.31,5.31,0,0,0,4.9,4.9,5.31,5.31,0,0,0,6.5,1,5.31,5.31,0,0,0,8.1,4.9,5.31,5.31,0,0,0,12,6.5,5.46,5.46,0,0,0,6.5,12Z\"/>\n",
              "  </svg>\n",
              "    </button>\n",
              "    <script>\n",
              "      (() => {\n",
              "      const buttonEl =\n",
              "        document.querySelector('#id_13d0cf84-d8e1-4d45-bb09-047607948a2d button.colab-df-generate');\n",
              "      buttonEl.style.display =\n",
              "        google.colab.kernel.accessAllowed ? 'block' : 'none';\n",
              "\n",
              "      buttonEl.onclick = () => {\n",
              "        google.colab.notebook.generateWithVariable('prData');\n",
              "      }\n",
              "      })();\n",
              "    </script>\n",
              "  </div>\n",
              "\n",
              "    </div>\n",
              "  </div>\n"
            ],
            "application/vnd.google.colaboratory.intrinsic+json": {
              "type": "dataframe",
              "variable_name": "prData",
              "summary": "{\n  \"name\": \"prData\",\n  \"rows\": 1,\n  \"fields\": [\n    {\n      \"column\": \"Name\",\n      \"properties\": {\n        \"dtype\": \"string\",\n        \"num_unique_values\": 1,\n        \"samples\": [\n          \"Faiza\"\n        ],\n        \"semantic_type\": \"\",\n        \"description\": \"\"\n      }\n    },\n    {\n      \"column\": \"Age\",\n      \"properties\": {\n        \"dtype\": \"string\",\n        \"num_unique_values\": 1,\n        \"samples\": [\n          \"34\"\n        ],\n        \"semantic_type\": \"\",\n        \"description\": \"\"\n      }\n    },\n    {\n      \"column\": \"Gender\",\n      \"properties\": {\n        \"dtype\": \"string\",\n        \"num_unique_values\": 1,\n        \"samples\": [\n          \"Female\"\n        ],\n        \"semantic_type\": \"\",\n        \"description\": \"\"\n      }\n    },\n    {\n      \"column\": \"Education\",\n      \"properties\": {\n        \"dtype\": \"string\",\n        \"num_unique_values\": 1,\n        \"samples\": [\n          \"O levels\"\n        ],\n        \"semantic_type\": \"\",\n        \"description\": \"\"\n      }\n    },\n    {\n      \"column\": \"Prompt\",\n      \"properties\": {\n        \"dtype\": \"string\",\n        \"num_unique_values\": 1,\n        \"samples\": [\n          \"My name is Faiza. I am a 34 years old Female. My education is O levels. Suggest a career choice for me. List in bullet points the steps I need to take to get there\"\n        ],\n        \"semantic_type\": \"\",\n        \"description\": \"\"\n      }\n    },\n    {\n      \"column\": \"Response\",\n      \"properties\": {\n        \"dtype\": \"string\",\n        \"num_unique_values\": 1,\n        \"samples\": [\n          \"**Career Choice:**\\n\\n* **Administrative Assistant**\\n\\n**Steps to Get There:**\\n\\n* **Obtain a Diploma or Certificate in Office Administration:** This will provide you with the necessary skills and knowledge in office management, communication, and technology.\\n* **Gain Practical Experience:** Volunteer or intern at an office to gain hands-on experience in administrative tasks.\\n* **Develop Strong Communication and Interpersonal Skills:** Administrative assistants interact with clients, colleagues, and supervisors regularly.\\n* **Enhance Your Technology Proficiency:** Become familiar with Microsoft Office Suite, email management, and other relevant software.\\n* **Network and Seek Job Opportunities:** Attend industry events, connect with professionals on LinkedIn, and apply for administrative assistant positions.\\n* **Consider Specialization:** You can specialize in areas such as legal, medical, or executive administration to enhance your marketability.\\n* **Stay Updated with Industry Trends:** Attend workshops or webinars to keep abreast of the latest administrative practices and technologies.\"\n        ],\n        \"semantic_type\": \"\",\n        \"description\": \"\"\n      }\n    }\n  ]\n}"
            }
          },
          "metadata": {},
          "execution_count": 11
        }
      ]
    },
    {
      "cell_type": "code",
      "source": [
        "# CTF Format used in prompt\n",
        "    default_prompt=\"\"\"\n",
        "            Context : Need to convert flowchart to Steps\n",
        "            Task : - Generate a JSON structure representing a list of steps. Each step Desciption must have at least 10 words.\n",
        "                   - Additional Steps can be created to highlight relation between each steps.\n",
        "                   - Steps must be reference other steps if there are dependencies.\n",
        "                   - Each step should be a dictionary with the following keys:\n",
        "                    \"Step number\": an integer representing the step number.\n",
        "                    \"Step Description\": a string describing the step with at least 10 words.\n",
        "            Format :\n",
        "                    [\n",
        "                        {\n",
        "                          \"Step number\":1,\n",
        "                          \"Step Description\": \"Passengers sends a request to the reservation system.\"\n",
        "                        },\n",
        "                        {\n",
        "                          \"Step number\":2,\n",
        "                          \"Step Description\": \"The reservation system checks for availability of seats.\"\n",
        "                        }\n",
        "                    ]\n",
        "                    \"\"\""
      ],
      "metadata": {
        "id": "2aIgndm0AYpx"
      },
      "execution_count": null,
      "outputs": []
    },
    {
      "cell_type": "code",
      "source": [
        "\"Can you share the best way to present my educational background, emphasizing degrees and certifications that are most relevant to the [insert field/industry]? I also want to include significant academic projects, honors, or a noteworthy GPA, especially if they relate directly to the job I'm applying for.\"\n",
        "𝗣𝗿𝗼𝗺𝗽𝘁 :\n",
        "\n",
        "\"Can you draft a concise cover letter for a [insert target role] at [insert company]? I need an engaging introduction, highlights of my relevant experiences and skills, and how they align with the job and company values. I also want a strong closing that expresses my eagerness for the role. Tips on keeping the tone professional yet captivating would be helpful.\"\n",
        "\n",
        "\n",
        "𝗣𝗿𝗼𝗺𝗽𝘁 𝟯 :\n",
        "\n",
        "I am a recent graduate of [university name], I earned a degree in [subject] with a [X] GPA and did an internship at [company X]. I am now seeking an entry-level position as a [Job Title]. I have included the job description. Create an ATS-friendly resume, please focus on highlighting my accomplishments and metrics, using all the information I have provided. [Paste Your Job Description]\n",
        "𝗣𝗿𝗼𝗺𝗽𝘁 𝟰 :\n",
        "\n",
        "Can you please analyze this job description provided below and provide 2-3 key skills/ requirements. I should highlight on my resume for this [Your Role]? [Paste Your Job Description]\n",
        "\n",
        "\n",
        "𝗣𝗿𝗼𝗺𝗽𝘁 𝟱 :\n",
        "\n",
        "Please rework the summary section of my resume given below to better emphasize my relevant qualifications for this [Your Role] detailed in the job description [Job Description]. Here is my summary[Paste Your Summary Section].\n",
        "\n",
        "\n",
        "𝗣𝗿𝗼𝗺𝗽𝘁 𝟲 :\n",
        "\n",
        "Are there any additional skills or experiences I should mention to strengthen my candidacy for this [Your Role]? If so, where would you recommend adding them to my resume? Here is my resume [Paste Your Resume]\n",
        "\n",
        "\n",
        "𝗣𝗿𝗼𝗺𝗽𝘁 𝟳 :\n",
        "\n",
        "I'm going to be applying for [Job Title at Company X]. Examine the overall tone of my resume and suggest adjustments to make it more professional. Here's my current resume [Paste Your Resume]."
      ],
      "metadata": {
        "id": "cDwYGwPWyAGF"
      },
      "execution_count": null,
      "outputs": []
    }
  ],
  "metadata": {
    "colab": {
      "provenance": [],
      "collapsed_sections": [
        "AUT67WFx4i0B",
        "aAn-vc9_0PMe",
        "Og7zonjdQl06",
        "I_iOh9vuQg4a"
      ]
    },
    "kernelspec": {
      "display_name": "Python 3",
      "name": "python3"
    },
    "language_info": {
      "name": "python"
    }
  },
  "nbformat": 4,
  "nbformat_minor": 0
}